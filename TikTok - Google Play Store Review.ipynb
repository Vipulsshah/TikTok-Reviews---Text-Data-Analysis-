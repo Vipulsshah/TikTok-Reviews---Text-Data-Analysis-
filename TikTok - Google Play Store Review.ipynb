{
 "cells": [
  {
   "cell_type": "code",
   "execution_count": 1,
   "id": "c1c43355",
   "metadata": {},
   "outputs": [],
   "source": [
    "import pandas as pd\n",
    "import numpy as np\n",
    "import matplotlib.pyplot as plt\n",
    "import seaborn as sns\n",
    "sns.set()\n",
    "%matplotlib inline"
   ]
  },
  {
   "cell_type": "code",
   "execution_count": 2,
   "id": "9b906694",
   "metadata": {},
   "outputs": [],
   "source": [
    "df = pd.read_csv('E:/Data Science/Data Sets/TikTok - Google Play Store/tiktok_google_play_reviews.csv')"
   ]
  },
  {
   "cell_type": "code",
   "execution_count": 3,
   "id": "9d305a48",
   "metadata": {},
   "outputs": [
    {
     "data": {
      "text/html": [
       "<div>\n",
       "<style scoped>\n",
       "    .dataframe tbody tr th:only-of-type {\n",
       "        vertical-align: middle;\n",
       "    }\n",
       "\n",
       "    .dataframe tbody tr th {\n",
       "        vertical-align: top;\n",
       "    }\n",
       "\n",
       "    .dataframe thead th {\n",
       "        text-align: right;\n",
       "    }\n",
       "</style>\n",
       "<table border=\"1\" class=\"dataframe\">\n",
       "  <thead>\n",
       "    <tr style=\"text-align: right;\">\n",
       "      <th></th>\n",
       "      <th>reviewId</th>\n",
       "      <th>userName</th>\n",
       "      <th>userImage</th>\n",
       "      <th>content</th>\n",
       "      <th>score</th>\n",
       "      <th>thumbsUpCount</th>\n",
       "      <th>reviewCreatedVersion</th>\n",
       "      <th>at</th>\n",
       "      <th>replyContent</th>\n",
       "      <th>repliedAt</th>\n",
       "    </tr>\n",
       "  </thead>\n",
       "  <tbody>\n",
       "    <tr>\n",
       "      <th>0</th>\n",
       "      <td>gp:AOqpTOHRz-11c0apHLSKHHp52FxUXsQS9Z88wP3sWc5...</td>\n",
       "      <td>MR LOL GAMER</td>\n",
       "      <td>https://play-lh.googleusercontent.com/a/AATXAJ...</td>\n",
       "      <td>Good</td>\n",
       "      <td>5</td>\n",
       "      <td>0</td>\n",
       "      <td>23.8.4</td>\n",
       "      <td>2022-04-05 23:18:30</td>\n",
       "      <td>NaN</td>\n",
       "      <td>NaN</td>\n",
       "    </tr>\n",
       "    <tr>\n",
       "      <th>1</th>\n",
       "      <td>gp:AOqpTOF6mFDEkIypmyT3shDLjPHg8zB3kdns2W36ahp...</td>\n",
       "      <td>Dino Kljako</td>\n",
       "      <td>https://play-lh.googleusercontent.com/a-/AOh14...</td>\n",
       "      <td>Awesome app! Too many people on it where it's ...</td>\n",
       "      <td>5</td>\n",
       "      <td>0</td>\n",
       "      <td>NaN</td>\n",
       "      <td>2022-04-05 23:18:21</td>\n",
       "      <td>NaN</td>\n",
       "      <td>NaN</td>\n",
       "    </tr>\n",
       "    <tr>\n",
       "      <th>2</th>\n",
       "      <td>gp:AOqpTOGtqU4sb8vuVo3-eB7kIXWoBn-0YCUZ1SnPRKS...</td>\n",
       "      <td>Olivia Harding</td>\n",
       "      <td>https://play-lh.googleusercontent.com/a/AATXAJ...</td>\n",
       "      <td>Not bad</td>\n",
       "      <td>5</td>\n",
       "      <td>0</td>\n",
       "      <td>23.9.5</td>\n",
       "      <td>2022-04-05 23:17:34</td>\n",
       "      <td>NaN</td>\n",
       "      <td>NaN</td>\n",
       "    </tr>\n",
       "    <tr>\n",
       "      <th>3</th>\n",
       "      <td>gp:AOqpTOFHDm-Qa5R6jCpOGTFT2qr1_PKbCTbBNPahCEn...</td>\n",
       "      <td>Keli We</td>\n",
       "      <td>https://play-lh.googleusercontent.com/a-/AOh14...</td>\n",
       "      <td>It is good</td>\n",
       "      <td>2</td>\n",
       "      <td>0</td>\n",
       "      <td>22.2.5</td>\n",
       "      <td>2022-04-05 23:17:04</td>\n",
       "      <td>NaN</td>\n",
       "      <td>NaN</td>\n",
       "    </tr>\n",
       "    <tr>\n",
       "      <th>4</th>\n",
       "      <td>gp:AOqpTOFB6Ndao8IHRpOJRmbSknwMGxHcwYzux93YyXI...</td>\n",
       "      <td>Mavis Kotoka</td>\n",
       "      <td>https://play-lh.googleusercontent.com/a/AATXAJ...</td>\n",
       "      <td>Very interesting app</td>\n",
       "      <td>5</td>\n",
       "      <td>0</td>\n",
       "      <td>22.1.5</td>\n",
       "      <td>2022-04-05 23:17:04</td>\n",
       "      <td>NaN</td>\n",
       "      <td>NaN</td>\n",
       "    </tr>\n",
       "  </tbody>\n",
       "</table>\n",
       "</div>"
      ],
      "text/plain": [
       "                                            reviewId        userName  \\\n",
       "0  gp:AOqpTOHRz-11c0apHLSKHHp52FxUXsQS9Z88wP3sWc5...    MR LOL GAMER   \n",
       "1  gp:AOqpTOF6mFDEkIypmyT3shDLjPHg8zB3kdns2W36ahp...     Dino Kljako   \n",
       "2  gp:AOqpTOGtqU4sb8vuVo3-eB7kIXWoBn-0YCUZ1SnPRKS...  Olivia Harding   \n",
       "3  gp:AOqpTOFHDm-Qa5R6jCpOGTFT2qr1_PKbCTbBNPahCEn...         Keli We   \n",
       "4  gp:AOqpTOFB6Ndao8IHRpOJRmbSknwMGxHcwYzux93YyXI...    Mavis Kotoka   \n",
       "\n",
       "                                           userImage  \\\n",
       "0  https://play-lh.googleusercontent.com/a/AATXAJ...   \n",
       "1  https://play-lh.googleusercontent.com/a-/AOh14...   \n",
       "2  https://play-lh.googleusercontent.com/a/AATXAJ...   \n",
       "3  https://play-lh.googleusercontent.com/a-/AOh14...   \n",
       "4  https://play-lh.googleusercontent.com/a/AATXAJ...   \n",
       "\n",
       "                                             content  score  thumbsUpCount  \\\n",
       "0                                               Good      5              0   \n",
       "1  Awesome app! Too many people on it where it's ...      5              0   \n",
       "2                                            Not bad      5              0   \n",
       "3                                         It is good      2              0   \n",
       "4                               Very interesting app      5              0   \n",
       "\n",
       "  reviewCreatedVersion                   at replyContent repliedAt  \n",
       "0               23.8.4  2022-04-05 23:18:30          NaN       NaN  \n",
       "1                  NaN  2022-04-05 23:18:21          NaN       NaN  \n",
       "2               23.9.5  2022-04-05 23:17:34          NaN       NaN  \n",
       "3               22.2.5  2022-04-05 23:17:04          NaN       NaN  \n",
       "4               22.1.5  2022-04-05 23:17:04          NaN       NaN  "
      ]
     },
     "execution_count": 3,
     "metadata": {},
     "output_type": "execute_result"
    }
   ],
   "source": [
    "df.head()"
   ]
  },
  {
   "cell_type": "code",
   "execution_count": 4,
   "id": "2531f961",
   "metadata": {},
   "outputs": [
    {
     "data": {
      "text/plain": [
       "(307057, 10)"
      ]
     },
     "execution_count": 4,
     "metadata": {},
     "output_type": "execute_result"
    }
   ],
   "source": [
    "df.shape"
   ]
  },
  {
   "cell_type": "code",
   "execution_count": 5,
   "id": "12959c26",
   "metadata": {},
   "outputs": [
    {
     "data": {
      "text/plain": [
       "reviewId                     0\n",
       "userName                     0\n",
       "userImage                    0\n",
       "content                      4\n",
       "score                        0\n",
       "thumbsUpCount                0\n",
       "reviewCreatedVersion     89216\n",
       "at                           0\n",
       "replyContent            306938\n",
       "repliedAt               306938\n",
       "dtype: int64"
      ]
     },
     "execution_count": 5,
     "metadata": {},
     "output_type": "execute_result"
    }
   ],
   "source": [
    "df.isnull().sum()"
   ]
  },
  {
   "cell_type": "markdown",
   "id": "5a61fd95",
   "metadata": {},
   "source": [
    "### Since review id, user name and user Image does not content any valuable information, we can simply drop those columns:"
   ]
  },
  {
   "cell_type": "code",
   "execution_count": 6,
   "id": "e4f338ac",
   "metadata": {},
   "outputs": [
    {
     "data": {
      "text/html": [
       "<div>\n",
       "<style scoped>\n",
       "    .dataframe tbody tr th:only-of-type {\n",
       "        vertical-align: middle;\n",
       "    }\n",
       "\n",
       "    .dataframe tbody tr th {\n",
       "        vertical-align: top;\n",
       "    }\n",
       "\n",
       "    .dataframe thead th {\n",
       "        text-align: right;\n",
       "    }\n",
       "</style>\n",
       "<table border=\"1\" class=\"dataframe\">\n",
       "  <thead>\n",
       "    <tr style=\"text-align: right;\">\n",
       "      <th></th>\n",
       "      <th>content</th>\n",
       "      <th>score</th>\n",
       "      <th>thumbsUpCount</th>\n",
       "      <th>reviewCreatedVersion</th>\n",
       "      <th>at</th>\n",
       "      <th>replyContent</th>\n",
       "      <th>repliedAt</th>\n",
       "    </tr>\n",
       "  </thead>\n",
       "  <tbody>\n",
       "    <tr>\n",
       "      <th>0</th>\n",
       "      <td>Good</td>\n",
       "      <td>5</td>\n",
       "      <td>0</td>\n",
       "      <td>23.8.4</td>\n",
       "      <td>2022-04-05 23:18:30</td>\n",
       "      <td>NaN</td>\n",
       "      <td>NaN</td>\n",
       "    </tr>\n",
       "    <tr>\n",
       "      <th>1</th>\n",
       "      <td>Awesome app! Too many people on it where it's ...</td>\n",
       "      <td>5</td>\n",
       "      <td>0</td>\n",
       "      <td>NaN</td>\n",
       "      <td>2022-04-05 23:18:21</td>\n",
       "      <td>NaN</td>\n",
       "      <td>NaN</td>\n",
       "    </tr>\n",
       "    <tr>\n",
       "      <th>2</th>\n",
       "      <td>Not bad</td>\n",
       "      <td>5</td>\n",
       "      <td>0</td>\n",
       "      <td>23.9.5</td>\n",
       "      <td>2022-04-05 23:17:34</td>\n",
       "      <td>NaN</td>\n",
       "      <td>NaN</td>\n",
       "    </tr>\n",
       "    <tr>\n",
       "      <th>3</th>\n",
       "      <td>It is good</td>\n",
       "      <td>2</td>\n",
       "      <td>0</td>\n",
       "      <td>22.2.5</td>\n",
       "      <td>2022-04-05 23:17:04</td>\n",
       "      <td>NaN</td>\n",
       "      <td>NaN</td>\n",
       "    </tr>\n",
       "    <tr>\n",
       "      <th>4</th>\n",
       "      <td>Very interesting app</td>\n",
       "      <td>5</td>\n",
       "      <td>0</td>\n",
       "      <td>22.1.5</td>\n",
       "      <td>2022-04-05 23:17:04</td>\n",
       "      <td>NaN</td>\n",
       "      <td>NaN</td>\n",
       "    </tr>\n",
       "  </tbody>\n",
       "</table>\n",
       "</div>"
      ],
      "text/plain": [
       "                                             content  score  thumbsUpCount  \\\n",
       "0                                               Good      5              0   \n",
       "1  Awesome app! Too many people on it where it's ...      5              0   \n",
       "2                                            Not bad      5              0   \n",
       "3                                         It is good      2              0   \n",
       "4                               Very interesting app      5              0   \n",
       "\n",
       "  reviewCreatedVersion                   at replyContent repliedAt  \n",
       "0               23.8.4  2022-04-05 23:18:30          NaN       NaN  \n",
       "1                  NaN  2022-04-05 23:18:21          NaN       NaN  \n",
       "2               23.9.5  2022-04-05 23:17:34          NaN       NaN  \n",
       "3               22.2.5  2022-04-05 23:17:04          NaN       NaN  \n",
       "4               22.1.5  2022-04-05 23:17:04          NaN       NaN  "
      ]
     },
     "execution_count": 6,
     "metadata": {},
     "output_type": "execute_result"
    }
   ],
   "source": [
    "df.drop(['reviewId','userName','userImage'], axis = 1, inplace = True)\n",
    "df.head()"
   ]
  },
  {
   "cell_type": "markdown",
   "id": "64bf1ef1",
   "metadata": {},
   "source": [
    "### Since reviewCreatedVersion, at, replyContent and repliedAt have many missing values, we can simply drop those columns:"
   ]
  },
  {
   "cell_type": "code",
   "execution_count": 7,
   "id": "def82ef4",
   "metadata": {},
   "outputs": [
    {
     "data": {
      "text/html": [
       "<div>\n",
       "<style scoped>\n",
       "    .dataframe tbody tr th:only-of-type {\n",
       "        vertical-align: middle;\n",
       "    }\n",
       "\n",
       "    .dataframe tbody tr th {\n",
       "        vertical-align: top;\n",
       "    }\n",
       "\n",
       "    .dataframe thead th {\n",
       "        text-align: right;\n",
       "    }\n",
       "</style>\n",
       "<table border=\"1\" class=\"dataframe\">\n",
       "  <thead>\n",
       "    <tr style=\"text-align: right;\">\n",
       "      <th></th>\n",
       "      <th>content</th>\n",
       "      <th>score</th>\n",
       "      <th>thumbsUpCount</th>\n",
       "    </tr>\n",
       "  </thead>\n",
       "  <tbody>\n",
       "    <tr>\n",
       "      <th>0</th>\n",
       "      <td>Good</td>\n",
       "      <td>5</td>\n",
       "      <td>0</td>\n",
       "    </tr>\n",
       "    <tr>\n",
       "      <th>1</th>\n",
       "      <td>Awesome app! Too many people on it where it's ...</td>\n",
       "      <td>5</td>\n",
       "      <td>0</td>\n",
       "    </tr>\n",
       "    <tr>\n",
       "      <th>2</th>\n",
       "      <td>Not bad</td>\n",
       "      <td>5</td>\n",
       "      <td>0</td>\n",
       "    </tr>\n",
       "    <tr>\n",
       "      <th>3</th>\n",
       "      <td>It is good</td>\n",
       "      <td>2</td>\n",
       "      <td>0</td>\n",
       "    </tr>\n",
       "    <tr>\n",
       "      <th>4</th>\n",
       "      <td>Very interesting app</td>\n",
       "      <td>5</td>\n",
       "      <td>0</td>\n",
       "    </tr>\n",
       "  </tbody>\n",
       "</table>\n",
       "</div>"
      ],
      "text/plain": [
       "                                             content  score  thumbsUpCount\n",
       "0                                               Good      5              0\n",
       "1  Awesome app! Too many people on it where it's ...      5              0\n",
       "2                                            Not bad      5              0\n",
       "3                                         It is good      2              0\n",
       "4                               Very interesting app      5              0"
      ]
     },
     "execution_count": 7,
     "metadata": {},
     "output_type": "execute_result"
    }
   ],
   "source": [
    "df.drop(['reviewCreatedVersion','at','replyContent','repliedAt'], axis = 1, inplace = True)\n",
    "df.head()"
   ]
  },
  {
   "cell_type": "markdown",
   "id": "983b4c62",
   "metadata": {},
   "source": [
    "# Performing Text Data Analysis:"
   ]
  },
  {
   "cell_type": "markdown",
   "id": "434c98e8",
   "metadata": {},
   "source": [
    "### Importing Libraries:"
   ]
  },
  {
   "cell_type": "code",
   "execution_count": 8,
   "id": "22c39f20",
   "metadata": {},
   "outputs": [],
   "source": [
    "import nltk\n",
    "from nltk.corpus import stopwords\n",
    "from nltk.tokenize import word_tokenize\n",
    "from nltk.stem import WordNetLemmatizer\n",
    "import re"
   ]
  },
  {
   "cell_type": "code",
   "execution_count": 9,
   "id": "233dc902",
   "metadata": {},
   "outputs": [],
   "source": [
    "lemma = WordNetLemmatizer()\n",
    "stop_words = stopwords.words('english')"
   ]
  },
  {
   "cell_type": "markdown",
   "id": "e3f3505d",
   "metadata": {},
   "source": [
    "### Creating a function to clear the text:"
   ]
  },
  {
   "cell_type": "code",
   "execution_count": 10,
   "id": "ae7e1373",
   "metadata": {},
   "outputs": [],
   "source": [
    "def text_prep(x):\n",
    "     corp = str(x).lower() \n",
    "     corp = re.sub('[^a-zA-Z]+',' ', corp).strip() \n",
    "     tokens = word_tokenize(corp)\n",
    "     words = [t for t in tokens if t not in stop_words]\n",
    "     lemmatize = [lemma.lemmatize(w) for w in words]\n",
    "     return lemmatize"
   ]
  },
  {
   "cell_type": "markdown",
   "id": "ff1842d0",
   "metadata": {},
   "source": [
    "### Apply this function to every text in the 'content‘ column:"
   ]
  },
  {
   "cell_type": "code",
   "execution_count": 12,
   "id": "72c011bb",
   "metadata": {},
   "outputs": [],
   "source": [
    "preprocess_tag = [text_prep(i) for i in df['content']]\n",
    "df[\"preprocess_txt\"] = preprocess_tag"
   ]
  },
  {
   "cell_type": "markdown",
   "id": "bec2c53c",
   "metadata": {},
   "source": [
    "### Calculate the number of resultant words for each text:"
   ]
  },
  {
   "cell_type": "code",
   "execution_count": 13,
   "id": "53422768",
   "metadata": {},
   "outputs": [],
   "source": [
    "df['word_count'] = df['preprocess_txt'].map(lambda x: len(x)) ## word_count"
   ]
  },
  {
   "cell_type": "markdown",
   "id": "741ba87f",
   "metadata": {},
   "source": [
    "### Importing Neagtive and Positive texts"
   ]
  },
  {
   "cell_type": "code",
   "execution_count": 14,
   "id": "caaafe25",
   "metadata": {},
   "outputs": [],
   "source": [
    "file = open('E:/Data Science/Data Sets/TikTok - Google Play Store/Positive and Negative words/negative-words.txt', 'r')\n",
    "neg_words = file.read().split()\n",
    "file = open('E:/Data Science/Data Sets/TikTok - Google Play Store/Positive and Negative words/positive-words.txt', 'r')\n",
    "pos_words = file.read().split()"
   ]
  },
  {
   "cell_type": "markdown",
   "id": "bbaadee1",
   "metadata": {},
   "source": [
    "## Lets calculate Positive and Negative score of each comment:"
   ]
  },
  {
   "cell_type": "code",
   "execution_count": 15,
   "id": "13a196c2",
   "metadata": {},
   "outputs": [],
   "source": [
    "num_pos = df['preprocess_txt'].map(lambda x: len([i for i in x if i in pos_words]))\n",
    "df['pos_count'] = num_pos\n",
    "num_neg = df['preprocess_txt'].map(lambda x: len([i for i in x if i in neg_words]))\n",
    "df['neg_count'] = num_neg"
   ]
  },
  {
   "cell_type": "markdown",
   "id": "898a2010",
   "metadata": {},
   "source": [
    "### Calculating Polarity Score and Subjectivity Score:"
   ]
  },
  {
   "cell_type": "code",
   "execution_count": 16,
   "id": "8b245c83",
   "metadata": {},
   "outputs": [],
   "source": [
    "df['Polarity_Score'] = round((df['pos_count'] - df['neg_count']) / ((df['pos_count'] + df['neg_count']) + 0.00001), 2)\n",
    "df['Subjectivity_Score'] = round((df['pos_count'] + df['neg_count']) / (df['word_count'] + 0.00001), 2)"
   ]
  },
  {
   "cell_type": "markdown",
   "id": "7a4f965f",
   "metadata": {},
   "source": [
    "# 2) Analysis of Readability:"
   ]
  },
  {
   "cell_type": "markdown",
   "id": "a5b6f8b8",
   "metadata": {},
   "source": [
    "### Creating a function to clear the text without lemmatizing:"
   ]
  },
  {
   "cell_type": "code",
   "execution_count": 17,
   "id": "2f44e767",
   "metadata": {},
   "outputs": [],
   "source": [
    "def text_prep_2(x):\n",
    "    corp = str(x)\n",
    "    corp = re.sub('[^a-zA-Z]+',' ', corp).strip() \n",
    "    tokens = word_tokenize(corp)\n",
    "    return tokens"
   ]
  },
  {
   "cell_type": "markdown",
   "id": "f812671e",
   "metadata": {},
   "source": [
    "### Apply this function to every text in the 'content‘ column"
   ]
  },
  {
   "cell_type": "code",
   "execution_count": 18,
   "id": "1f5b6e82",
   "metadata": {},
   "outputs": [],
   "source": [
    "preprocess_tokens = [text_prep_2(i) for i in df['content']]\n",
    "df[\"preprocess_tokens\"] = preprocess_tokens"
   ]
  },
  {
   "cell_type": "markdown",
   "id": "d8a77f7f",
   "metadata": {},
   "source": [
    "### Calculate the number of resultant words for each text:"
   ]
  },
  {
   "cell_type": "code",
   "execution_count": 19,
   "id": "d77d0451",
   "metadata": {},
   "outputs": [],
   "source": [
    "df['total_token_len'] = df['preprocess_tokens'].map(lambda x: len(x))"
   ]
  },
  {
   "cell_type": "markdown",
   "id": "d5f9dc18",
   "metadata": {},
   "source": [
    "### Creating a function to clear the sentences:"
   ]
  },
  {
   "cell_type": "code",
   "execution_count": 25,
   "id": "21ab099e",
   "metadata": {},
   "outputs": [],
   "source": [
    "def text_prep_2(x):\n",
    "    corp = str(x)\n",
    "    corp = re.sub('[^a-zA-Z]+',' ', corp).strip() \n",
    "    sentences_all = nltk.tokenize.sent_tokenize(corp)\n",
    "    return sentences_all"
   ]
  },
  {
   "cell_type": "markdown",
   "id": "5d40a291",
   "metadata": {},
   "source": [
    "### Apply this function to every text in the 'content‘ column"
   ]
  },
  {
   "cell_type": "code",
   "execution_count": 27,
   "id": "40b48b64",
   "metadata": {},
   "outputs": [],
   "source": [
    "preprocess_sentences = [text_prep_2(i) for i in df['content']]\n",
    "df[\"preprocess_sentences_all\"] = preprocess_sentences"
   ]
  },
  {
   "cell_type": "markdown",
   "id": "83c577bf",
   "metadata": {},
   "source": [
    "### Calculating Average Sentence Length:"
   ]
  },
  {
   "cell_type": "code",
   "execution_count": 29,
   "id": "24cf83fe",
   "metadata": {},
   "outputs": [
    {
     "name": "stderr",
     "output_type": "stream",
     "text": [
      "C:\\Users\\vipul\\AppData\\Local\\Temp/ipykernel_2920/2953880600.py:6: RuntimeWarning: invalid value encountered in longlong_scalars\n",
      "  temp_2 = round(df['total_token_len'][i]/temp , 2)\n"
     ]
    }
   ],
   "source": [
    "total_sentence_count = []\n",
    "avg_sentence_lenght_count = []\n",
    "for i in range(0,df['content'].shape[0]):\n",
    "    temp = len(df['preprocess_sentences_all'][i])\n",
    "    total_sentence_count.append(temp)\n",
    "    temp_2 = round(df['total_token_len'][i]/temp , 2)\n",
    "    avg_sentence_lenght_count.append(temp_2)\n",
    "df['Average_Sentence_Length'] = avg_sentence_lenght_count"
   ]
  },
  {
   "cell_type": "markdown",
   "id": "0606844a",
   "metadata": {},
   "source": [
    "## Syllable count per word:"
   ]
  },
  {
   "cell_type": "code",
   "execution_count": 30,
   "id": "b5e17e6b",
   "metadata": {},
   "outputs": [],
   "source": [
    "def word_counter(word):\n",
    "    count=0\n",
    "    for w in word:\n",
    "        count = count + 1\n",
    "    return count"
   ]
  },
  {
   "cell_type": "code",
   "execution_count": 31,
   "id": "9574c002",
   "metadata": {},
   "outputs": [],
   "source": [
    "def syllable_counter(word):\n",
    "    syllable_count=0\n",
    "    for w in word:\n",
    "        if(w=='a' or w=='e' or w=='i' or w=='o' or w=='u' or w=='A' or w=='E' or w=='I' or w=='O' or w=='U'):\n",
    "            syllable_count=syllable_count+1\n",
    "    if word.endswith(\"ed\"):\n",
    "        syllable_count=syllable_count-1\n",
    "    if word.endswith(\"es\"):\n",
    "        syllable_count=syllable_count-1\n",
    "    return syllable_count"
   ]
  },
  {
   "cell_type": "code",
   "execution_count": 39,
   "id": "7ad95d31",
   "metadata": {},
   "outputs": [],
   "source": [
    "syllable_count_counter = []\n",
    "for i in range(0,df['content'].shape[0]):\n",
    "    temp = round((sum((syllable_counter(word)/word_counter(word))+0.001 for word in df['preprocess_tokens'][i]) / (len(df['preprocess_tokens'][i])+0.001)),2)\n",
    "    syllable_count_counter.append(temp)\n",
    "df['syllable_count'] = syllable_count_counter"
   ]
  },
  {
   "cell_type": "markdown",
   "id": "9419b6e8",
   "metadata": {},
   "source": [
    "## Average Number of Words Per Sentence:"
   ]
  },
  {
   "cell_type": "code",
   "execution_count": 40,
   "id": "9fdaef42",
   "metadata": {},
   "outputs": [],
   "source": [
    "df['Avg_no_words_per_sentence'] = df['Average_Sentence_Length']"
   ]
  },
  {
   "cell_type": "markdown",
   "id": "621984eb",
   "metadata": {},
   "source": [
    "## Complex word count:"
   ]
  },
  {
   "cell_type": "code",
   "execution_count": 41,
   "id": "e1233227",
   "metadata": {},
   "outputs": [],
   "source": [
    "complex_words = []\n",
    "for i in range(0,df['content'].shape[0]):\n",
    "    complex_word_counter = 0\n",
    "    for word in df['preprocess_tokens'][i]:\n",
    "        temp = syllable_counter(word)\n",
    "        if temp>2:\n",
    "            complex_word_counter = complex_word_counter + 1\n",
    "    complex_words.append(complex_word_counter)\n",
    "df['complex_word_count'] = complex_words"
   ]
  },
  {
   "cell_type": "markdown",
   "id": "bd13e166",
   "metadata": {},
   "source": [
    "## Percentage of complex words"
   ]
  },
  {
   "cell_type": "code",
   "execution_count": 43,
   "id": "817b8e3b",
   "metadata": {},
   "outputs": [
    {
     "name": "stderr",
     "output_type": "stream",
     "text": [
      "C:\\Users\\vipul\\AppData\\Local\\Temp/ipykernel_2920/3838803951.py:3: RuntimeWarning: invalid value encountered in longlong_scalars\n",
      "  temp = round((df['complex_word_count'][i]/df['total_token_len'][i])*100,2)\n"
     ]
    }
   ],
   "source": [
    "Percentage_Complex_words_count = []\n",
    "for i in range(0,df['content'].shape[0]):\n",
    "    temp = round((df['complex_word_count'][i]/df['total_token_len'][i])*100,2)\n",
    "    Percentage_Complex_words_count.append(temp)\n",
    "df['Percentage_of_Complex_words'] = Percentage_Complex_words_count"
   ]
  },
  {
   "cell_type": "markdown",
   "id": "73454124",
   "metadata": {},
   "source": [
    "## Fog Index:"
   ]
  },
  {
   "cell_type": "code",
   "execution_count": 45,
   "id": "ee9f9f04",
   "metadata": {},
   "outputs": [],
   "source": [
    "fog_index_count = []\n",
    "for i in range(0,df['content'].shape[0]):\n",
    "    temp = round((df['Average_Sentence_Length'][i] + df['Percentage_of_Complex_words'][i])*0.4,2)\n",
    "    fog_index_count.append(temp)\n",
    "df['Fog_Index'] = fog_index_count"
   ]
  },
  {
   "cell_type": "markdown",
   "id": "12a16ce9",
   "metadata": {},
   "source": [
    "## Average Word Lenght calculation:"
   ]
  },
  {
   "cell_type": "code",
   "execution_count": 50,
   "id": "00d737be",
   "metadata": {},
   "outputs": [],
   "source": [
    "def avg_word_lenght(words):\n",
    "    average_word_lenght = round(sum(len(word) for word in words) / (len(words)+0.001),2)\n",
    "    return average_word_lenght"
   ]
  },
  {
   "cell_type": "code",
   "execution_count": 51,
   "id": "cbe1d3cd",
   "metadata": {},
   "outputs": [],
   "source": [
    "avg_word_lenght_counter = []\n",
    "for i in range(0,df['content'].shape[0]):\n",
    "    temp = avg_word_lenght(df['preprocess_tokens'][i])\n",
    "    avg_word_lenght_counter.append(temp)\n",
    "df['Avg_word_lenght'] = avg_word_lenght_counter"
   ]
  },
  {
   "cell_type": "markdown",
   "id": "bd4b9ab3",
   "metadata": {},
   "source": [
    "### Removing unnecessary Columns:"
   ]
  },
  {
   "cell_type": "code",
   "execution_count": 52,
   "id": "83aa6f6e",
   "metadata": {
    "scrolled": true
   },
   "outputs": [
    {
     "data": {
      "text/plain": [
       "array(['content', 'score', 'thumbsUpCount', 'preprocess_txt',\n",
       "       'word_count', 'pos_count', 'neg_count', 'Polarity_Score',\n",
       "       'Subjectivity_Score', 'preprocess_tokens', 'total_token_len',\n",
       "       'preprocess_sentences_all', 'Average_Sentence_Length',\n",
       "       'syllable_count', 'Avg_no_words_per_sentence',\n",
       "       'complex_word_count', 'Percentage_of_Complex_words', 'Fog_Index',\n",
       "       'Avg_word_lenght'], dtype=object)"
      ]
     },
     "execution_count": 52,
     "metadata": {},
     "output_type": "execute_result"
    }
   ],
   "source": [
    "df.columns.values"
   ]
  },
  {
   "cell_type": "code",
   "execution_count": 53,
   "id": "6d2190d6",
   "metadata": {},
   "outputs": [],
   "source": [
    "df.drop(['preprocess_sentences_all', 'preprocess_txt','preprocess_tokens', 'total_token_len'],axis=1,inplace=True)"
   ]
  },
  {
   "cell_type": "markdown",
   "id": "cf1cd7bc",
   "metadata": {},
   "source": [
    "## Reordering the columns:"
   ]
  },
  {
   "cell_type": "code",
   "execution_count": 56,
   "id": "00a28964",
   "metadata": {},
   "outputs": [],
   "source": [
    "column_names = ['content', 'score', 'thumbsUpCount', 'pos_count', 'neg_count',\n",
    "       'Polarity_Score', 'Subjectivity_Score','Average_Sentence_Length',\n",
    "       'Percentage_of_Complex_words','Fog_Index','Avg_no_words_per_sentence',\n",
    "        'complex_word_count','word_count', 'Avg_word_lenght']"
   ]
  },
  {
   "cell_type": "code",
   "execution_count": 57,
   "id": "bb8496c7",
   "metadata": {},
   "outputs": [
    {
     "data": {
      "text/html": [
       "<div>\n",
       "<style scoped>\n",
       "    .dataframe tbody tr th:only-of-type {\n",
       "        vertical-align: middle;\n",
       "    }\n",
       "\n",
       "    .dataframe tbody tr th {\n",
       "        vertical-align: top;\n",
       "    }\n",
       "\n",
       "    .dataframe thead th {\n",
       "        text-align: right;\n",
       "    }\n",
       "</style>\n",
       "<table border=\"1\" class=\"dataframe\">\n",
       "  <thead>\n",
       "    <tr style=\"text-align: right;\">\n",
       "      <th></th>\n",
       "      <th>content</th>\n",
       "      <th>score</th>\n",
       "      <th>thumbsUpCount</th>\n",
       "      <th>pos_count</th>\n",
       "      <th>neg_count</th>\n",
       "      <th>Polarity_Score</th>\n",
       "      <th>Subjectivity_Score</th>\n",
       "      <th>Average_Sentence_Length</th>\n",
       "      <th>Percentage_of_Complex_words</th>\n",
       "      <th>Fog_Index</th>\n",
       "      <th>Avg_no_words_per_sentence</th>\n",
       "      <th>complex_word_count</th>\n",
       "      <th>word_count</th>\n",
       "      <th>Avg_word_lenght</th>\n",
       "    </tr>\n",
       "  </thead>\n",
       "  <tbody>\n",
       "    <tr>\n",
       "      <th>0</th>\n",
       "      <td>Good</td>\n",
       "      <td>5</td>\n",
       "      <td>0</td>\n",
       "      <td>1</td>\n",
       "      <td>0</td>\n",
       "      <td>1.00</td>\n",
       "      <td>1.00</td>\n",
       "      <td>1.0</td>\n",
       "      <td>0.00</td>\n",
       "      <td>0.40</td>\n",
       "      <td>1.0</td>\n",
       "      <td>0</td>\n",
       "      <td>1</td>\n",
       "      <td>4.00</td>\n",
       "    </tr>\n",
       "    <tr>\n",
       "      <th>1</th>\n",
       "      <td>Awesome app! Too many people on it where it's ...</td>\n",
       "      <td>5</td>\n",
       "      <td>0</td>\n",
       "      <td>6</td>\n",
       "      <td>1</td>\n",
       "      <td>0.71</td>\n",
       "      <td>0.47</td>\n",
       "      <td>30.0</td>\n",
       "      <td>13.33</td>\n",
       "      <td>17.33</td>\n",
       "      <td>30.0</td>\n",
       "      <td>4</td>\n",
       "      <td>15</td>\n",
       "      <td>3.63</td>\n",
       "    </tr>\n",
       "    <tr>\n",
       "      <th>2</th>\n",
       "      <td>Not bad</td>\n",
       "      <td>5</td>\n",
       "      <td>0</td>\n",
       "      <td>0</td>\n",
       "      <td>1</td>\n",
       "      <td>-1.00</td>\n",
       "      <td>1.00</td>\n",
       "      <td>2.0</td>\n",
       "      <td>0.00</td>\n",
       "      <td>0.80</td>\n",
       "      <td>2.0</td>\n",
       "      <td>0</td>\n",
       "      <td>1</td>\n",
       "      <td>3.00</td>\n",
       "    </tr>\n",
       "    <tr>\n",
       "      <th>3</th>\n",
       "      <td>It is good</td>\n",
       "      <td>2</td>\n",
       "      <td>0</td>\n",
       "      <td>1</td>\n",
       "      <td>0</td>\n",
       "      <td>1.00</td>\n",
       "      <td>1.00</td>\n",
       "      <td>3.0</td>\n",
       "      <td>0.00</td>\n",
       "      <td>1.20</td>\n",
       "      <td>3.0</td>\n",
       "      <td>0</td>\n",
       "      <td>1</td>\n",
       "      <td>2.67</td>\n",
       "    </tr>\n",
       "    <tr>\n",
       "      <th>4</th>\n",
       "      <td>Very interesting app</td>\n",
       "      <td>5</td>\n",
       "      <td>0</td>\n",
       "      <td>1</td>\n",
       "      <td>0</td>\n",
       "      <td>1.00</td>\n",
       "      <td>0.50</td>\n",
       "      <td>3.0</td>\n",
       "      <td>33.33</td>\n",
       "      <td>14.53</td>\n",
       "      <td>3.0</td>\n",
       "      <td>1</td>\n",
       "      <td>2</td>\n",
       "      <td>6.00</td>\n",
       "    </tr>\n",
       "  </tbody>\n",
       "</table>\n",
       "</div>"
      ],
      "text/plain": [
       "                                             content  score  thumbsUpCount  \\\n",
       "0                                               Good      5              0   \n",
       "1  Awesome app! Too many people on it where it's ...      5              0   \n",
       "2                                            Not bad      5              0   \n",
       "3                                         It is good      2              0   \n",
       "4                               Very interesting app      5              0   \n",
       "\n",
       "   pos_count  neg_count  Polarity_Score  Subjectivity_Score  \\\n",
       "0          1          0            1.00                1.00   \n",
       "1          6          1            0.71                0.47   \n",
       "2          0          1           -1.00                1.00   \n",
       "3          1          0            1.00                1.00   \n",
       "4          1          0            1.00                0.50   \n",
       "\n",
       "   Average_Sentence_Length  Percentage_of_Complex_words  Fog_Index  \\\n",
       "0                      1.0                         0.00       0.40   \n",
       "1                     30.0                        13.33      17.33   \n",
       "2                      2.0                         0.00       0.80   \n",
       "3                      3.0                         0.00       1.20   \n",
       "4                      3.0                        33.33      14.53   \n",
       "\n",
       "   Avg_no_words_per_sentence  complex_word_count  word_count  Avg_word_lenght  \n",
       "0                        1.0                   0           1             4.00  \n",
       "1                       30.0                   4          15             3.63  \n",
       "2                        2.0                   0           1             3.00  \n",
       "3                        3.0                   0           1             2.67  \n",
       "4                        3.0                   1           2             6.00  "
      ]
     },
     "execution_count": 57,
     "metadata": {},
     "output_type": "execute_result"
    }
   ],
   "source": [
    "df = df[column_names]\n",
    "df.head()"
   ]
  },
  {
   "cell_type": "markdown",
   "id": "e16f502e",
   "metadata": {},
   "source": [
    "# Saving the DataFrame as XLSX file:"
   ]
  },
  {
   "cell_type": "code",
   "execution_count": 59,
   "id": "0c9a9173",
   "metadata": {},
   "outputs": [
    {
     "name": "stdout",
     "output_type": "stream",
     "text": [
      "DataFrame is written to Excel File successfully.\n"
     ]
    }
   ],
   "source": [
    "# determining the name of the file\n",
    "file_name = 'E:/Data Science/Data Sets/TikTok - Google Play Store/Output_Data_final.xlsx'\n",
    "  \n",
    "# saving the excel\n",
    "df.to_excel(file_name)\n",
    "print('DataFrame is written to Excel File successfully.')"
   ]
  },
  {
   "cell_type": "code",
   "execution_count": null,
   "id": "ef58e065",
   "metadata": {},
   "outputs": [],
   "source": []
  }
 ],
 "metadata": {
  "kernelspec": {
   "display_name": "Python 3 (ipykernel)",
   "language": "python",
   "name": "python3"
  },
  "language_info": {
   "codemirror_mode": {
    "name": "ipython",
    "version": 3
   },
   "file_extension": ".py",
   "mimetype": "text/x-python",
   "name": "python",
   "nbconvert_exporter": "python",
   "pygments_lexer": "ipython3",
   "version": "3.8.11"
  }
 },
 "nbformat": 4,
 "nbformat_minor": 5
}
